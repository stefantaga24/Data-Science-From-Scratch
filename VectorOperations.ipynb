{
 "cells": [
  {
   "cell_type": "code",
   "execution_count": null,
   "id": "4ad81313-f236-43cb-ad20-b78bc04a774e",
   "metadata": {},
   "outputs": [],
   "source": [
    "from matplotlib import pyplot as plt\n",
    "from collections import Counter\n",
    "from typing import *\n",
    "\n",
    "def add(v: Vector , w:Vector):\n",
    "    assert(len(v) == len(w))\n",
    "    return [v_i+w_i for v_i,w_i in zip(v,w)]\n",
    "def subtract(v:Vector ,w:Vector):\n",
    "    assert(len(v) == len(w))\n",
    "    return [v_i-w_i for v_i,w_i in zip(v,w)]\n",
    "def vector_sum(vectors: List[Vector]) -> Vector:\n",
    "    assert(len(vectors))\n",
    "    first_length = len(vectors[0])\n",
    "    assert(first_length == len(vectors[i]) for i in range(0,len(vectors)))\n",
    "    return [sum(vector[i] for vector in vectors) for i in range(first_length)]\n",
    "def scalar_multiply(c: float , v:Vector) -> Vector:\n",
    "    assert(len(v))\n",
    "    return [c*v[i] for i in range(len(v))]\n",
    "def vector_mean(vectors: List[Vector]) -> Vector:\n",
    "    assert(len(vectors))\n",
    "    n = len(vectors)\n",
    "    return scalar_multiply(1/n, vector_sum(vectors))\n",
    "def dot( a:Vector, b:Vector):\n",
    "    assert (len(a)==len(b))\n",
    "    return (a_i*b_i for a_i,b_i in zip(a,b))\n",
    "def sum_squares(v : Vector) :\n",
    "    return dot(v,v)\n",
    "def magnitude ( v: Vector):\n",
    "    return math.sqrt(sum_squares(v))\n",
    "def squared_distance (v: Vector , w : Vector) :\n",
    "    return sum_squares(subtract(v,w))\n",
    "def distance (v:Vector, w:Vector):\n",
    "    return math.sqrt(squared_distance(v,w))\n",
    "def shape ( A:Matrix):\n",
    "    rows = len(A)\n",
    "    columns = len(A[0])\n",
    "    return rows,columns\n",
    "def get_row(A : Matrix , i:int):\n",
    "    return A[i]\n",
    "def get_column (A:Matrix , j:int):\n",
    "    return [A[i][j] for i in range(len(A))]\n",
    "def make_matrix(num_rows : int , num_columns: int , entry_fn: Callable[[int,int], float]) -> Matrix:\n",
    "    return [[entry(i,j) for i in range(num_rows)] for j in range(num_columns)]"
   ]
  },
  {
   "cell_type": "code",
   "execution_count": 45,
   "id": "24c86f4e-a598-4738-bd10-4d6258418a3f",
   "metadata": {},
   "outputs": [
    {
     "data": {
      "text/plain": [
       "[3, 5]"
      ]
     },
     "execution_count": 45,
     "metadata": {},
     "output_type": "execute_result"
    }
   ],
   "source": [
    "Vector = List[float]\n",
    "Matrix = List[List[float]]\n",
    "assert add([1, 2, 3], [4, 5, 6]) == [5, 7, 9]\n",
    "assert subtract([1,2,3],[1,2,3]) == [0,0,0]\n",
    "assert vector_sum([[1, 2], [3, 4], [5, 6], [7, 8]]) == [16, 20]\n",
    "assert scalar_multiply(2, [1, 2, 3]) == [2, 4, 6]\n",
    "assert vector_mean([[1, 2], [3, 4], [5, 6]]) == [3, 4]\n",
    "get_column([[1,2,3],[3,4,5]], 2)"
   ]
  },
  {
   "cell_type": "code",
   "execution_count": null,
   "id": "fec47567-1b4e-4be3-ae35-c096eb9a4f2c",
   "metadata": {},
   "outputs": [],
   "source": []
  }
 ],
 "metadata": {
  "kernelspec": {
   "display_name": "Python 3 (ipykernel)",
   "language": "python",
   "name": "python3"
  },
  "language_info": {
   "codemirror_mode": {
    "name": "ipython",
    "version": 3
   },
   "file_extension": ".py",
   "mimetype": "text/x-python",
   "name": "python",
   "nbconvert_exporter": "python",
   "pygments_lexer": "ipython3",
   "version": "3.11.6"
  }
 },
 "nbformat": 4,
 "nbformat_minor": 5
}
